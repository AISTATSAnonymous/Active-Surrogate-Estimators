{
 "cells": [
  {
   "cell_type": "code",
   "execution_count": null,
   "id": "0398cbf2",
   "metadata": {},
   "outputs": [],
   "source": [
    "import os\n",
    "os.chdir('..')\n",
    "\n",
    "from activetesting.visualize import Visualiser\n",
    "from activetesting.plotting import *\n",
    "\n",
    "%load_ext autoreload\n",
    "%autoreload 2\n",
    "\n",
    "# load default paths\n",
    "all_paths = ReproduciblePaths\n",
    "GLOBAL_BASE = os.getenv('GLOBAL_BASE', '.')"
   ]
  },
  {
   "cell_type": "markdown",
   "id": "15d69edf",
   "metadata": {},
   "source": [
    "# Synthetic Gaussian Data"
   ]
  },
  {
   "cell_type": "code",
   "execution_count": null,
   "id": "2f639610",
   "metadata": {
    "scrolled": true
   },
   "outputs": [],
   "source": [
    "paths = all_paths.synthetic_gaussian\n",
    "paths = plus_base(GLOBAL_BASE, paths)\n",
    "names = all_paths.synthetic_gaussian_names\n",
    "kwargs = dict(true_risk='ExactExpectedRiskEstimator', cutoff=500)\n",
    "\n",
    "viss_toy = get_visualisers_dict(paths, names, **kwargs)\n",
    "\n",
    "paths = all_paths.synthetic_gaussian_bq\n",
    "paths = plus_base(GLOBAL_BASE, paths)\n",
    "\n",
    "viss_bq = get_visualisers_dict(paths, names, **kwargs)"
   ]
  },
  {
   "cell_type": "code",
   "execution_count": null,
   "id": "821c08b1",
   "metadata": {},
   "outputs": [],
   "source": [
    "for vis in viss_toy.values():\n",
    "    print(vis.n_runs)\n",
    "for vis in viss_bq.values():\n",
    "    print(vis.n_runs)"
   ]
  },
  {
   "cell_type": "code",
   "execution_count": null,
   "id": "2997e0b0",
   "metadata": {
    "scrolled": false
   },
   "outputs": [],
   "source": [
    "figure_toy_data_gaussians_three_new_bq(viss_toy, viss_bq, scale='linear')"
   ]
  },
  {
   "cell_type": "code",
   "execution_count": null,
   "id": "100b9e46",
   "metadata": {
    "scrolled": true
   },
   "outputs": [],
   "source": [
    "figure_toy_data_gaussians_three_new_bq(viss_toy, viss_bq, scale='log')"
   ]
  },
  {
   "cell_type": "code",
   "execution_count": null,
   "id": "8cb20cce",
   "metadata": {},
   "outputs": [],
   "source": [
    "figure_toy_data_gaussians_three_new_bq(viss_toy, viss_bq, errors='std')"
   ]
  },
  {
   "cell_type": "markdown",
   "id": "62dd040d",
   "metadata": {},
   "source": [
    "# RadialBNNMNISTMissing7"
   ]
  },
  {
   "cell_type": "code",
   "execution_count": null,
   "id": "10d83a3d",
   "metadata": {},
   "outputs": [],
   "source": [
    "path = all_paths.radialbnn_missing_7\n",
    "path = plus_base(GLOBAL_BASE, path)\n",
    "vis7 = Visualiser(path, cutoff=500)"
   ]
  },
  {
   "cell_type": "code",
   "execution_count": null,
   "id": "ebb96e6c",
   "metadata": {},
   "outputs": [],
   "source": [
    "vis7.n_runs"
   ]
  },
  {
   "cell_type": "code",
   "execution_count": null,
   "id": "86ac81d0",
   "metadata": {},
   "outputs": [],
   "source": [
    "figure_missing7_main(vis7)"
   ]
  },
  {
   "cell_type": "code",
   "execution_count": null,
   "id": "ca83f135",
   "metadata": {},
   "outputs": [],
   "source": [
    "figure_missing7_acquisitions(vis7)"
   ]
  },
  {
   "cell_type": "code",
   "execution_count": null,
   "id": "92c1ef0b",
   "metadata": {},
   "outputs": [],
   "source": [
    "figure_missing7_appendix(vis7)"
   ]
  },
  {
   "cell_type": "code",
   "execution_count": null,
   "id": "5c36e736",
   "metadata": {},
   "outputs": [],
   "source": [
    "figure_missing7_main(vis7, errors='percentiles')"
   ]
  },
  {
   "cell_type": "code",
   "execution_count": null,
   "id": "acb02806",
   "metadata": {},
   "outputs": [],
   "source": [
    "figure_missing7_acquisitions(vis7, errors='percentiles')"
   ]
  },
  {
   "cell_type": "markdown",
   "id": "ed82814a",
   "metadata": {},
   "source": [
    "# Resnets"
   ]
  },
  {
   "cell_type": "code",
   "execution_count": null,
   "id": "bd06334a",
   "metadata": {},
   "outputs": [],
   "source": [
    "paths = all_paths.resnets\n",
    "paths = plus_base(GLOBAL_BASE, paths)\n",
    "names = all_paths.resnets_names\n",
    "\n",
    "kwargs = dict(true_risk='TrueUnseenRiskEstimator')\n",
    "vis_resnet = get_visualisers_dict(paths, names, **kwargs)"
   ]
  },
  {
   "cell_type": "code",
   "execution_count": null,
   "id": "a604d712",
   "metadata": {},
   "outputs": [],
   "source": [
    "for vis in vis_resnet.values():\n",
    "    print(vis.n_runs)"
   ]
  },
  {
   "cell_type": "code",
   "execution_count": null,
   "id": "34fb4529",
   "metadata": {},
   "outputs": [],
   "source": [
    "paths = all_paths.resnets\n",
    "paths = plus_base(GLOBAL_BASE, paths)\n",
    "names = all_paths.resnets_names\n",
    "\n",
    "kwargs = dict(true_risk='TrueUnseenRiskEstimator')\n",
    "vis_resnet = get_visualisers_dict(paths[:-1], names, **kwargs)\n",
    "\n",
    "for vis in vis_resnet.values():\n",
    "    print(vis.n_runs)"
   ]
  },
  {
   "cell_type": "code",
   "execution_count": null,
   "id": "d1d43ae9",
   "metadata": {},
   "outputs": [],
   "source": [
    "figure_resnets_unseen(vis_resnet, errors='percentiles')"
   ]
  },
  {
   "cell_type": "code",
   "execution_count": null,
   "id": "fc5b0723",
   "metadata": {},
   "outputs": [],
   "source": [
    "figure_resnets_unseen(vis_resnet, errors='std')"
   ]
  },
  {
   "cell_type": "markdown",
   "id": "fb84f424",
   "metadata": {},
   "source": [
    "# Synthetic Linear Data"
   ]
  },
  {
   "cell_type": "code",
   "execution_count": null,
   "id": "43941bf9",
   "metadata": {
    "scrolled": true
   },
   "outputs": [],
   "source": [
    "paths = all_paths.synthetic_linear\n",
    "paths = plus_base(GLOBAL_BASE, paths)\n",
    "names = all_paths.synthetic_linear_names\n",
    "\n",
    "kwargs = dict(true_risk='ExactExpectedRiskEstimator')\n",
    "viss_lin = get_visualisers_dict(paths, names, **kwargs)"
   ]
  },
  {
   "cell_type": "code",
   "execution_count": null,
   "id": "d2201bc5",
   "metadata": {},
   "outputs": [],
   "source": [
    "for vis in viss_lin.values():\n",
    "    print(vis.n_runs)"
   ]
  },
  {
   "cell_type": "code",
   "execution_count": null,
   "id": "6f89a52f",
   "metadata": {},
   "outputs": [],
   "source": [
    "figure_toy_data_main(viss_lin)"
   ]
  },
  {
   "cell_type": "code",
   "execution_count": null,
   "id": "7bce6e9a",
   "metadata": {},
   "outputs": [],
   "source": []
  }
 ],
 "metadata": {
  "kernelspec": {
   "display_name": "Python 3 (ipykernel)",
   "language": "python",
   "name": "python3"
  },
  "language_info": {
   "codemirror_mode": {
    "name": "ipython",
    "version": 3
   },
   "file_extension": ".py",
   "mimetype": "text/x-python",
   "name": "python",
   "nbconvert_exporter": "python",
   "pygments_lexer": "ipython3",
   "version": "3.9.7"
  }
 },
 "nbformat": 4,
 "nbformat_minor": 5
}
